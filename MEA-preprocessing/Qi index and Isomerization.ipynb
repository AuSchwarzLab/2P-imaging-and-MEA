{
 "cells": [
  {
   "cell_type": "code",
   "execution_count": 8,
   "id": "d763b766-c5d6-4b9a-9a37-895e761cb80a",
   "metadata": {},
   "outputs": [],
   "source": [
    "import numpy as np\n",
    "import h5py\n",
    "import pandas as pd"
   ]
  },
  {
   "cell_type": "markdown",
   "id": "dfd68217",
   "metadata": {},
   "source": [
    "# Response quality index - QI\n",
    "SD1: For each cluster, calculate the standard deviation (STD) of the firing rate for each trial in the ON-OFF pattern (lasting 2 seconds). Then, take the average of these STDs across all trials to get SD1.\n",
    "\n",
    "SD2: Compute the average firing rate curve across all trials for the cluster. Then, calculate STD of this average firing rate curve. This value is called SD2.\n",
    "\n",
    "Ratio: The ratio is then calculated by dividing SD1 by SD2."
   ]
  },
  {
   "cell_type": "code",
   "execution_count": 11,
   "id": "6b4caab5-ab78-42c6-bd3d-489dde04e47c",
   "metadata": {
    "scrolled": true
   },
   "outputs": [
    {
     "name": "stdout",
     "output_type": "stream",
     "text": [
      "    Cluster ID       SD1        SD2   QI Ratio\n",
      "0            0  26.544554  24.087288  0.907429\n",
      "1            1  54.802255  51.945292  0.947868\n",
      "2            2  42.631143  36.702528  0.860932\n",
      "3            3  55.929789  53.374608  0.954314\n",
      "4            4  33.938789  29.621591  0.872795\n",
      "5            5  32.451397  31.463571  0.969560\n",
      "6            6   9.099972   3.588267  0.394316\n",
      "7            8  34.979040  31.615095  0.903830\n",
      "8            9  18.643017  10.908348  0.585117\n",
      "9           10  70.887742  67.286463  0.949197\n",
      "10          11  77.809933  72.431187  0.930873\n",
      "11          12  55.505921  52.847864  0.952112\n",
      "12          13  57.670215  55.113513  0.955667\n",
      "13          14  21.712934  17.009484  0.783380\n",
      "14          15  50.297812  47.709184  0.948534\n",
      "15          16  50.687603  46.109644  0.909683\n",
      "16          17  18.806810  13.131004  0.698205\n",
      "17          18  70.768944  67.908358  0.959579\n",
      "18          19  83.878889  80.554141  0.960363\n",
      "19          20  77.794588  76.688777  0.985786\n",
      "20          21  26.129064  18.591885  0.711540\n",
      "21          22  33.530529  31.285228  0.933037\n",
      "22          23  23.791669  18.334425  0.770624\n",
      "23          24  22.096544  16.902244  0.764927\n",
      "24          27  12.536127   9.998101  0.797543\n",
      "25          28  24.740302  19.247835  0.777995\n"
     ]
    }
   ],
   "source": [
    "def get_light_stimulus_info(h5_file_path):\n",
    "    # Load the light stimulus timestamps\n",
    "    with h5py.File(h5_file_path, 'r') as h5_file:\n",
    "        light_stimulus_timestamps = h5_file['Data/Recording_0/EventStream/Stream_0/EventEntity_0'][:][0]\n",
    "    \n",
    "    # Convert timestamps from microseconds to seconds\n",
    "    light_stimulus_timestamps_sec = light_stimulus_timestamps / 1_000_000.0\n",
    "    return light_stimulus_timestamps_sec\n",
    "\n",
    "def calculate_firing_rate_statistics(spike_times_file, spike_clusters_file, h5_file_path, bin_size=0.128):\n",
    "    # Load spike data\n",
    "    spike_times = np.load(spike_times_file)\n",
    "    spike_clusters = np.load(spike_clusters_file)\n",
    "    \n",
    "    # Convert spike times to seconds, assuming a sampling rate of 50kHz\n",
    "    sampling_rate = 50000\n",
    "    spike_times_sec = spike_times / sampling_rate\n",
    "    \n",
    "    # Get light stimulus timestamps in seconds\n",
    "    light_stimulus_timestamps_sec = get_light_stimulus_info(h5_file_path)\n",
    "    \n",
    "    # Define the start and end points for the snippets\n",
    "    snippet_intervals = [(light_stimulus_timestamps_sec[i], light_stimulus_timestamps_sec[i + 2]) \n",
    "                         for i in range(0, 29, 2)]\n",
    "    \n",
    "    # Get all unique cluster IDs\n",
    "    cluster_ids = np.unique(spike_clusters)\n",
    "    \n",
    "    # Initialize results storage\n",
    "    results = []\n",
    "\n",
    "    # Iterate through each cluster and calculate the statistics\n",
    "    for cluster_id in cluster_ids:\n",
    "        snippet_firing_rates = []\n",
    "        for start_time, end_time in snippet_intervals:\n",
    "            bins = np.arange(start_time, end_time + bin_size, bin_size)\n",
    "            cluster_spike_times = spike_times_sec[(spike_clusters == cluster_id) & \n",
    "                                                  (spike_times_sec >= start_time) & \n",
    "                                                  (spike_times_sec <= end_time)]\n",
    "            spike_counts, _ = np.histogram(cluster_spike_times, bins)\n",
    "            firing_rate = spike_counts / bin_size\n",
    "            snippet_firing_rates.append(firing_rate)\n",
    "        \n",
    "        snippet_firing_rates = np.array(snippet_firing_rates)\n",
    "        \n",
    "        # Calculate SD1: Average of STDs of all snippets\n",
    "        snippet_stds = np.std(snippet_firing_rates, axis=1)\n",
    "        sd1 = np.mean(snippet_stds)\n",
    "        \n",
    "        # Calculate SD2: STD of the overall average firing rate curve\n",
    "        mean_firing_rate_curve = np.mean(snippet_firing_rates, axis=0)\n",
    "        sd2 = np.std(mean_firing_rate_curve)\n",
    "        \n",
    "        # Calculate Ratio\n",
    "        ratio = sd2 / sd1 if sd1 != 0 else np.nan\n",
    "        \n",
    "        # Store results\n",
    "        results.append({\n",
    "            'Cluster ID': cluster_id,\n",
    "            'SD1 ': sd1,\n",
    "            'SD2 ': sd2,\n",
    "            'QI Ratio': ratio\n",
    "        })\n",
    "\n",
    "    # Convert results to a DataFrame for better visualization\n",
    "    results_df = pd.DataFrame(results)\n",
    "    print(results_df)\n",
    "    return results_df\n",
    "\n",
    "# Example usage\n",
    "spike_times_file = r'C:\\Users\\Xinyi\\Desktop\\mr1L_dorsal_1v\\Sorting\\mr1L_dorsal_1v\\mr1L_dorsal_1v\\mr1L_dorsal_1v.GUI\\spike_times.npy'  # Replace with your spike_times.npy file path\n",
    "spike_clusters_file = r'C:\\Users\\Xinyi\\Desktop\\mr1L_dorsal_1v\\Sorting\\mr1L_dorsal_1v\\mr1L_dorsal_1v\\mr1L_dorsal_1v.GUI\\spike_clusters.npy'  # Replace with your spike_clusters.npy file path\n",
    "h5_file_path = r'C:\\Users\\Xinyi\\Desktop\\mr1L_dorsal_1v\\Sorting\\mr1L_dorsal_1v\\mr1L_dorsal_1v.h5'  # Replace with your .h5 file path\n",
    "\n",
    "df = calculate_firing_rate_statistics(spike_times_file, spike_clusters_file, h5_file_path)\n",
    "df.to_csv('firing_rate_statistics.csv', index=False)\n"
   ]
  },
  {
   "cell_type": "markdown",
   "id": "325b99b8",
   "metadata": {},
   "source": [
    "# Photon isomerization\n",
    "The method is based on https://github.com/eulerlab/mouse-scene-cam/blob/master/photoisomerization/cam_images_2_photoisomerization_v0_2.ipynb\n",
    "Our example is ex-vivo model which has no attenuation factors and transmission of mouse optical aparatus."
   ]
  },
  {
   "cell_type": "code",
   "execution_count": 16,
   "id": "12e90f85",
   "metadata": {},
   "outputs": [
    {
     "name": "stdout",
     "output_type": "stream",
     "text": [
      "Photon flux (P_Phi): 1.01e+12 photons/s\n",
      "Photoisomerisation rate for M-cone (R_Iso_M_cone): 1733.03 P*/cone/s\n",
      "Photoisomerisation rate for rod (R_Iso_rod): 4332.57 P*/rod/s\n"
     ]
    }
   ],
   "source": [
    "P_el = 0.34e-6  # Electrical power in Watts (0.34 μW)\n",
    "lambda_nm = 590  # Wavelength in nm\n",
    "a = 6.242e18  # Conversion constant (photons/J)\n",
    "c = 299792458  # Speed of light in m/s\n",
    "h = 4.135667e-15  # Planck's constant in eV·s\n",
    "\n",
    "# Ex vivo model: no attenuation in optical paths\n",
    "mu_lens2cam = 1  # Attenuation factor\n",
    "\n",
    "# Step 1: Calculate photon flux (P_Phi)\n",
    "P_Phi = (P_el * a * lambda_nm * 1e-9) / (c * h) * (1 / mu_lens2cam)\n",
    "\n",
    "# Constants for Step 2\n",
    "A_Stim = 1e8  # Stimulated area in μm^2\n",
    "A_Collect_M_cone = 0.2  # Collection area for M-cone in μm^2\n",
    "A_Collect_rod = 0.5  # Collection area for rod in μm^2\n",
    "S_Act = 0.858  # Sensitivity correction factor\n",
    "\n",
    "# Step 2: Calculate photoisomerisation rates\n",
    "R_Iso_M_cone = (P_Phi / A_Stim) * A_Collect_M_cone * S_Act\n",
    "R_Iso_rod = (P_Phi / A_Stim) * A_Collect_rod * S_Act\n",
    "\n",
    "# Results\n",
    "print(f\"Photon flux (P_Phi): {P_Phi:.2e} photons/s\")\n",
    "print(f\"Photoisomerisation rate for M-cone (R_Iso_M_cone): {R_Iso_M_cone:.2f} P*/cone/s\")\n",
    "print(f\"Photoisomerisation rate for rod (R_Iso_rod): {R_Iso_rod:.2f} P*/rod/s\")\n"
   ]
  }
 ],
 "metadata": {
  "kernelspec": {
   "display_name": "Python 3 (ipykernel)",
   "language": "python",
   "name": "python3"
  },
  "language_info": {
   "codemirror_mode": {
    "name": "ipython",
    "version": 3
   },
   "file_extension": ".py",
   "mimetype": "text/x-python",
   "name": "python",
   "nbconvert_exporter": "python",
   "pygments_lexer": "ipython3",
   "version": "3.11.9"
  }
 },
 "nbformat": 4,
 "nbformat_minor": 5
}
